{
  "cells": [
    {
      "cell_type": "markdown",
      "metadata": {
        "id": "Kz_sCP8cFibH"
      },
      "source": [
        "#Garbage Classification: A Comparative Analysis of Multi-Class Classification using Feature Descriptors and CNNs\n",
        "\n"
      ]
    },
    {
      "cell_type": "markdown",
      "metadata": {
        "id": "XygETB15r_8w"
      },
      "source": [
        "This work is aimed at analyzing different techniques for the performance of a Multi-Calssification task, involving the classification of Garbage in 5 distinct classes: Glass, Paper, Cardboard, Plastic and Metal. The project objective is to address the classification problem using both Machine Learning and Deep Learning methods. Specifically, an initial classification will be performed using Feature Descriptors, and then the task will be performed using two CNNs, both pre-trained on ImageNet, comparing their architecture and metrics. The first CNN would be based on a MobileNet model, the second on VGG19."
      ]
    },
    {
      "cell_type": "markdown",
      "metadata": {
        "id": "WefO2cq1IwQN"
      },
      "source": [
        "### Import of the libraries"
      ]
    },
    {
      "cell_type": "code",
      "execution_count": null,
      "metadata": {
        "colab": {
          "base_uri": "https://localhost:8080/"
        },
        "id": "6Ihs0AavDJ4r",
        "outputId": "f98c72e0-d075-40f2-87dd-55bafdb330c2"
      },
      "outputs": [
        {
          "output_type": "stream",
          "name": "stdout",
          "text": [
            "Requirement already satisfied: ImageHash in /usr/local/lib/python3.10/dist-packages (4.3.1)\n",
            "Requirement already satisfied: PyWavelets in /usr/local/lib/python3.10/dist-packages (from ImageHash) (1.5.0)\n",
            "Requirement already satisfied: numpy in /usr/local/lib/python3.10/dist-packages (from ImageHash) (1.23.5)\n",
            "Requirement already satisfied: pillow in /usr/local/lib/python3.10/dist-packages (from ImageHash) (9.4.0)\n",
            "Requirement already satisfied: scipy in /usr/local/lib/python3.10/dist-packages (from ImageHash) (1.11.4)\n"
          ]
        }
      ],
      "source": [
        "!pip install ImageHash\n",
        "\n",
        "import numpy as np\n",
        "import matplotlib.pyplot as plt\n",
        "from glob import glob\n",
        "from os.path import join\n",
        "\n",
        "import cv2\n",
        "import sklearn\n",
        "from sklearn import svm\n",
        "from sklearn.ensemble import RandomForestClassifier, AdaBoostClassifier\n",
        "from sklearn.metrics import accuracy_score, confusion_matrix\n",
        "from sklearn.metrics import classification_report\n",
        "from sklearn.metrics import ConfusionMatrixDisplay\n",
        "from skimage.feature import hog, local_binary_pattern\n",
        "from tqdm import tqdm\n",
        "\n",
        "import os\n",
        "from PIL import Image\n",
        "import imagehash\n",
        "import shutil\n",
        "\n",
        "import tensorflow as tf\n",
        "from tensorflow import keras\n",
        "from tensorflow.keras import layers\n",
        "from tensorflow.keras.models import Model\n",
        "from tensorflow.keras.layers import Dense, Flatten\n",
        "from tensorflow.keras.applications import ResNet50\n",
        "import matplotlib.pyplot as plt"
      ]
    },
    {
      "cell_type": "markdown",
      "metadata": {
        "id": "ubi8xd5FKDSy"
      },
      "source": [
        "### Execution of random seed\n",
        "\n",
        "This step is crucial to obtain deterministic (and replicable) results"
      ]
    },
    {
      "cell_type": "code",
      "execution_count": null,
      "metadata": {
        "id": "y1B8xdSVKYyL"
      },
      "outputs": [],
      "source": [
        "np.random.seed(1583)"
      ]
    },
    {
      "cell_type": "markdown",
      "metadata": {
        "id": "S7iqtBViKyvA"
      },
      "source": [
        "### Definition of the classes\n",
        "\n",
        "Definition of the classes involved in the multi-classification task and the associated data labels"
      ]
    },
    {
      "cell_type": "code",
      "execution_count": null,
      "metadata": {
        "id": "ZkUSopZ7K1cM"
      },
      "outputs": [],
      "source": [
        "def get_labels(name):\n",
        "    if 'glass' in name:\n",
        "        return 0\n",
        "    elif 'paper' in name:\n",
        "        return 1\n",
        "    elif 'cardboard' in name:\n",
        "        return 2\n",
        "    elif 'plastic' in name:\n",
        "        return 3\n",
        "    elif 'metal' in name:\n",
        "        return 4\n",
        "    else:\n",
        "        raise NotImplementedError('Not existing class!')"
      ]
    },
    {
      "cell_type": "markdown",
      "metadata": {
        "id": "KEdJbkCmLYMB"
      },
      "source": [
        "### Definition of the feature extraction function\n",
        "    \n",
        "I use the function provided durign the lectures in laboratory. This function, besides extracting the features, allowing the selection the feature descriptor to use, enable the resizing of the input images and to return the data labels.\n",
        "\n",
        "I've edited the image resizing function input, to enable the resizing of the image specifying both x and y."
      ]
    },
    {
      "cell_type": "code",
      "execution_count": null,
      "metadata": {
        "id": "fyavVkznNacB"
      },
      "outputs": [],
      "source": [
        "def extract_features(images, feat_type, img_size):\n",
        "\n",
        "    labels = []\n",
        "    features = []\n",
        "\n",
        "    for image in tqdm(images):\n",
        "\n",
        "        # open the image\n",
        "        img = cv2.imread(image, 0)\n",
        "\n",
        "        # resize the image\n",
        "        img = cv2.resize(img, (img_size[0], img_size[1]))\n",
        "\n",
        "        # compute the features\n",
        "        if feat_type == 'hog':\n",
        "            feat = hog(img, orientations=9, pixels_per_cell=(8, 8), cells_per_block=(2, 2))\n",
        "        elif feat_type == 'lbp':\n",
        "            feat = np.ravel(local_binary_pattern(img, P=100, R=5))\n",
        "        elif feat_type == 'img':\n",
        "            img = img / 256.0\n",
        "            feat = np.ravel(img)\n",
        "        else:\n",
        "            raise NotImplementedError('Not implemented feature!')\n",
        "\n",
        "        # append features and labels\n",
        "        features.append(feat)\n",
        "        labels.append(get_labels(image))\n",
        "\n",
        "    return features, labels"
      ]
    },
    {
      "cell_type": "markdown",
      "source": [
        "# Machine Learning model: RandomForest multi-class classification with feature extraction"
      ],
      "metadata": {
        "id": "E7t5eRrAI4l5"
      }
    },
    {
      "cell_type": "markdown",
      "metadata": {
        "id": "XtIM0EU6OmIE"
      },
      "source": [
        "## 1. Data preparation\n",
        "\n",
        "This phase has involved the splitting of the input dataset in training, validation and test sets."
      ]
    },
    {
      "cell_type": "code",
      "execution_count": null,
      "metadata": {
        "id": "ybsMj32vQA7o",
        "colab": {
          "base_uri": "https://localhost:8080/"
        },
        "outputId": "2a6a9bdf-8533-49ac-b86f-ef2ffbe5d954"
      },
      "outputs": [
        {
          "output_type": "stream",
          "name": "stdout",
          "text": [
            "replace /content/Garbage_classification/cardboard/cardboard1.jpg? [y]es, [n]o, [A]ll, [N]one, [r]ename: n\n",
            "replace /content/Garbage_classification/cardboard/cardboard10.jpg? [y]es, [n]o, [A]ll, [N]one, [r]ename: N\n"
          ]
        }
      ],
      "source": [
        "!unzip -q Garbage_classification.zip -d /content"
      ]
    },
    {
      "cell_type": "code",
      "execution_count": null,
      "metadata": {
        "colab": {
          "base_uri": "https://localhost:8080/"
        },
        "id": "KbHtqTUrQGhC",
        "outputId": "8817e71f-f2d4-4319-92fb-59d62b5deb90"
      },
      "outputs": [
        {
          "output_type": "stream",
          "name": "stdout",
          "text": [
            "Images:  2390\n"
          ]
        }
      ],
      "source": [
        "# population of the image list from the uploaded dataset\n",
        "dataset_path = '/content/Garbage_classification'\n",
        "images = glob(join(dataset_path, '*', '*.jpg'))\n",
        "\n",
        "#extraction of the sole images belonging to\n",
        "\n",
        "print('Images: ', len(images))\n",
        "\n",
        "# re-shuffling of the dataset to avoid unintentional patterns or biases\n",
        "np.random.shuffle(images)"
      ]
    },
    {
      "cell_type": "code",
      "execution_count": null,
      "metadata": {
        "colab": {
          "base_uri": "https://localhost:8080/"
        },
        "id": "6qA0QGlFRr5f",
        "outputId": "73e5eab6-ca75-46e7-dccf-74e592439374"
      },
      "outputs": [
        {
          "output_type": "stream",
          "name": "stdout",
          "text": [
            "2390 images splitted in train set (1434), validation set (239) and test set (717)\n"
          ]
        }
      ],
      "source": [
        "# subdivision of the dataset in train set (60%), validation set (10%), test set (30%)\n",
        "trainset = images[:int(0.6*len(images))]\n",
        "valset = images[int(0.6*len(images)):int(0.7*len(images))]\n",
        "testset = images[int(0.7*len(images)):]\n",
        "print('{} images splitted in train set ({}), validation set ({}) and test set ({})'.format(len(images), len(trainset), len(valset), len(testset)))"
      ]
    },
    {
      "cell_type": "markdown",
      "metadata": {
        "id": "Nw8EHGu7ZChB"
      },
      "source": [
        "## 2. Feature extraction\n",
        "This step is aimed at exctracting a n-dimensional vector of numerical features, to be used as a simplified input to the Machine Learning model.\n",
        "\n",
        "In this case I've used HOG (Histogram of Oriented Gradients) as I've observed better performances with respect to LBP"
      ]
    },
    {
      "cell_type": "code",
      "execution_count": null,
      "metadata": {
        "colab": {
          "base_uri": "https://localhost:8080/"
        },
        "id": "wF5s3fGeZGLS",
        "outputId": "da14886d-1bf0-490e-da70-fc18da09b122"
      },
      "outputs": [
        {
          "output_type": "stream",
          "name": "stderr",
          "text": [
            "100%|██████████| 1434/1434 [00:42<00:00, 33.90it/s]\n",
            "100%|██████████| 239/239 [00:09<00:00, 25.39it/s]\n",
            "100%|██████████| 717/717 [00:18<00:00, 39.53it/s]\n"
          ]
        }
      ],
      "source": [
        "img_size = [224,224]\n",
        "feature_type = 'hog'\n",
        "\n",
        "train_x, train_y = extract_features(trainset, feature_type, img_size)\n",
        "val_x, val_y = extract_features(valset, feature_type, img_size)\n",
        "test_x, test_y = extract_features(testset, feature_type, img_size)"
      ]
    },
    {
      "cell_type": "markdown",
      "source": [
        "## 3. Model\n",
        "\n",
        "In this section I've defined the model to be trained on the feature extracted in the previous phase: the Machine Learning algorithm employed is RandomForest, an ensemble classifier based on bagging, which uses Decision Trees as base classifiers."
      ],
      "metadata": {
        "id": "uQ0EbIhsKuc1"
      }
    },
    {
      "cell_type": "markdown",
      "metadata": {
        "id": "B08fdShcZe6b"
      },
      "source": [
        "**TRAINING**\n"
      ]
    },
    {
      "cell_type": "code",
      "execution_count": null,
      "metadata": {
        "colab": {
          "base_uri": "https://localhost:8080/",
          "height": 74
        },
        "id": "wjQeXiauZVWN",
        "outputId": "a952ba1a-53b1-48f8-9fae-4180974900fe"
      },
      "outputs": [
        {
          "output_type": "execute_result",
          "data": {
            "text/plain": [
              "RandomForestClassifier(n_estimators=500)"
            ],
            "text/html": [
              "<style>#sk-container-id-1 {color: black;background-color: white;}#sk-container-id-1 pre{padding: 0;}#sk-container-id-1 div.sk-toggleable {background-color: white;}#sk-container-id-1 label.sk-toggleable__label {cursor: pointer;display: block;width: 100%;margin-bottom: 0;padding: 0.3em;box-sizing: border-box;text-align: center;}#sk-container-id-1 label.sk-toggleable__label-arrow:before {content: \"▸\";float: left;margin-right: 0.25em;color: #696969;}#sk-container-id-1 label.sk-toggleable__label-arrow:hover:before {color: black;}#sk-container-id-1 div.sk-estimator:hover label.sk-toggleable__label-arrow:before {color: black;}#sk-container-id-1 div.sk-toggleable__content {max-height: 0;max-width: 0;overflow: hidden;text-align: left;background-color: #f0f8ff;}#sk-container-id-1 div.sk-toggleable__content pre {margin: 0.2em;color: black;border-radius: 0.25em;background-color: #f0f8ff;}#sk-container-id-1 input.sk-toggleable__control:checked~div.sk-toggleable__content {max-height: 200px;max-width: 100%;overflow: auto;}#sk-container-id-1 input.sk-toggleable__control:checked~label.sk-toggleable__label-arrow:before {content: \"▾\";}#sk-container-id-1 div.sk-estimator input.sk-toggleable__control:checked~label.sk-toggleable__label {background-color: #d4ebff;}#sk-container-id-1 div.sk-label input.sk-toggleable__control:checked~label.sk-toggleable__label {background-color: #d4ebff;}#sk-container-id-1 input.sk-hidden--visually {border: 0;clip: rect(1px 1px 1px 1px);clip: rect(1px, 1px, 1px, 1px);height: 1px;margin: -1px;overflow: hidden;padding: 0;position: absolute;width: 1px;}#sk-container-id-1 div.sk-estimator {font-family: monospace;background-color: #f0f8ff;border: 1px dotted black;border-radius: 0.25em;box-sizing: border-box;margin-bottom: 0.5em;}#sk-container-id-1 div.sk-estimator:hover {background-color: #d4ebff;}#sk-container-id-1 div.sk-parallel-item::after {content: \"\";width: 100%;border-bottom: 1px solid gray;flex-grow: 1;}#sk-container-id-1 div.sk-label:hover label.sk-toggleable__label {background-color: #d4ebff;}#sk-container-id-1 div.sk-serial::before {content: \"\";position: absolute;border-left: 1px solid gray;box-sizing: border-box;top: 0;bottom: 0;left: 50%;z-index: 0;}#sk-container-id-1 div.sk-serial {display: flex;flex-direction: column;align-items: center;background-color: white;padding-right: 0.2em;padding-left: 0.2em;position: relative;}#sk-container-id-1 div.sk-item {position: relative;z-index: 1;}#sk-container-id-1 div.sk-parallel {display: flex;align-items: stretch;justify-content: center;background-color: white;position: relative;}#sk-container-id-1 div.sk-item::before, #sk-container-id-1 div.sk-parallel-item::before {content: \"\";position: absolute;border-left: 1px solid gray;box-sizing: border-box;top: 0;bottom: 0;left: 50%;z-index: -1;}#sk-container-id-1 div.sk-parallel-item {display: flex;flex-direction: column;z-index: 1;position: relative;background-color: white;}#sk-container-id-1 div.sk-parallel-item:first-child::after {align-self: flex-end;width: 50%;}#sk-container-id-1 div.sk-parallel-item:last-child::after {align-self: flex-start;width: 50%;}#sk-container-id-1 div.sk-parallel-item:only-child::after {width: 0;}#sk-container-id-1 div.sk-dashed-wrapped {border: 1px dashed gray;margin: 0 0.4em 0.5em 0.4em;box-sizing: border-box;padding-bottom: 0.4em;background-color: white;}#sk-container-id-1 div.sk-label label {font-family: monospace;font-weight: bold;display: inline-block;line-height: 1.2em;}#sk-container-id-1 div.sk-label-container {text-align: center;}#sk-container-id-1 div.sk-container {/* jupyter's `normalize.less` sets `[hidden] { display: none; }` but bootstrap.min.css set `[hidden] { display: none !important; }` so we also need the `!important` here to be able to override the default hidden behavior on the sphinx rendered scikit-learn.org. See: https://github.com/scikit-learn/scikit-learn/issues/21755 */display: inline-block !important;position: relative;}#sk-container-id-1 div.sk-text-repr-fallback {display: none;}</style><div id=\"sk-container-id-1\" class=\"sk-top-container\"><div class=\"sk-text-repr-fallback\"><pre>RandomForestClassifier(n_estimators=500)</pre><b>In a Jupyter environment, please rerun this cell to show the HTML representation or trust the notebook. <br />On GitHub, the HTML representation is unable to render, please try loading this page with nbviewer.org.</b></div><div class=\"sk-container\" hidden><div class=\"sk-item\"><div class=\"sk-estimator sk-toggleable\"><input class=\"sk-toggleable__control sk-hidden--visually\" id=\"sk-estimator-id-1\" type=\"checkbox\" checked><label for=\"sk-estimator-id-1\" class=\"sk-toggleable__label sk-toggleable__label-arrow\">RandomForestClassifier</label><div class=\"sk-toggleable__content\"><pre>RandomForestClassifier(n_estimators=500)</pre></div></div></div></div></div>"
            ]
          },
          "metadata": {},
          "execution_count": 79
        }
      ],
      "source": [
        "clf = RandomForestClassifier(n_estimators = 500)\n",
        "clf.fit(train_x, train_y)"
      ]
    },
    {
      "cell_type": "markdown",
      "metadata": {
        "id": "HC4bGrUerEdP"
      },
      "source": [
        "**VALIDATION**"
      ]
    },
    {
      "cell_type": "code",
      "execution_count": null,
      "metadata": {
        "colab": {
          "base_uri": "https://localhost:8080/"
        },
        "id": "fSMT6khwm-L7",
        "outputId": "80660e99-e3c2-49b8-90dd-31c300402a92"
      },
      "outputs": [
        {
          "output_type": "execute_result",
          "data": {
            "text/plain": [
              "0.5648535564853556"
            ]
          },
          "metadata": {},
          "execution_count": 80
        }
      ],
      "source": [
        "clf.score(val_x, val_y)"
      ]
    },
    {
      "cell_type": "markdown",
      "metadata": {
        "id": "FR9JiWQZrzKI"
      },
      "source": [
        "## 4. Prediction and performance evaluation"
      ]
    },
    {
      "cell_type": "markdown",
      "source": [
        "For the evaluation of the model I've employed sklearn's `classification_record` function, that results some of the most relevant metrics for the measurement of the reliability of the classifier, such as accuracy, precision and recall, and `ConfusionMatrixDisplay` for the visualization of the classification matrix"
      ],
      "metadata": {
        "id": "Mp9c6wUtLC91"
      }
    },
    {
      "cell_type": "code",
      "execution_count": null,
      "metadata": {
        "colab": {
          "base_uri": "https://localhost:8080/"
        },
        "id": "-ec6YYC6rks2",
        "outputId": "b12e9fe6-949a-4638-a343-3030361bb24a"
      },
      "outputs": [
        {
          "output_type": "stream",
          "name": "stdout",
          "text": [
            "Predicted 717 samples\n",
            "Final Accuracy: 0.561\n"
          ]
        }
      ],
      "source": [
        "y_pred = clf.predict(test_x)\n",
        "print('Predicted {} samples'.format(len(y_pred)))\n",
        "print('Final Accuracy: {:.3f}'.format(accuracy_score(test_y, y_pred)))"
      ]
    },
    {
      "cell_type": "code",
      "source": [
        "print(classification_report(test_y, y_pred, target_names=[\"glass\", \"paper\", \"cardboard\", \"plastic\", \"metal\"]))"
      ],
      "metadata": {
        "colab": {
          "base_uri": "https://localhost:8080/"
        },
        "id": "eV7uGCvCPUjQ",
        "outputId": "96bb2d36-5f1c-443c-d3f3-b3311af51f68"
      },
      "execution_count": null,
      "outputs": [
        {
          "output_type": "stream",
          "name": "stdout",
          "text": [
            "              precision    recall  f1-score   support\n",
            "\n",
            "       glass       0.37      0.62      0.46       126\n",
            "       paper       0.61      0.81      0.70       187\n",
            "   cardboard       0.82      0.65      0.72       130\n",
            "     plastic       0.54      0.46      0.50       149\n",
            "       metal       0.67      0.16      0.26       125\n",
            "\n",
            "    accuracy                           0.56       717\n",
            "   macro avg       0.60      0.54      0.53       717\n",
            "weighted avg       0.60      0.56      0.54       717\n",
            "\n"
          ]
        }
      ]
    },
    {
      "cell_type": "code",
      "execution_count": null,
      "metadata": {
        "colab": {
          "base_uri": "https://localhost:8080/",
          "height": 472
        },
        "id": "BMquNnh1r37p",
        "outputId": "2ef5988c-43ff-44de-b762-60879c7889c6"
      },
      "outputs": [
        {
          "output_type": "display_data",
          "data": {
            "text/plain": [
              "<Figure size 640x480 with 2 Axes>"
            ],
            "image/png": "[encoded data removed]"
          },
          "metadata": {}
        }
      ],
      "source": [
        "ConfusionMatrixDisplay.from_estimator(clf, test_x, test_y, normalize='true', display_labels=[\"glass\", \"paper\", \"cardboard\", \"plastic\", \"metal\"])\n",
        "plt.title(\"Random Forest with Feature Descriptor\")\n",
        "plt.show()"
      ]
    },
    {
      "cell_type": "markdown",
      "metadata": {
        "id": "2ujaGkKauFnR"
      },
      "source": [
        "# Deep Learning models: MobileNet and VGG19 Convolutional Neural Networks\n"
      ]
    },
    {
      "cell_type": "markdown",
      "source": [
        "## 1. Data Preprocessing"
      ],
      "metadata": {
        "id": "JlHW8x7xSprt"
      }
    },
    {
      "cell_type": "code",
      "execution_count": null,
      "metadata": {
        "id": "aelEEDFewjT-"
      },
      "outputs": [],
      "source": [
        "!unzip -q Garbage_classification_DL.zip -d /content"
      ]
    },
    {
      "cell_type": "markdown",
      "metadata": {
        "id": "jlMfTbehgj0t"
      },
      "source": [
        "The use of a Convolutional Neural Network to pursue the multi-classification task, forces us to use a larger amount of data.\n",
        "\n",
        "I've decided to use another dataset for the training operation, different than the one used to train the Machine Learning model. This dataset has more images with respect with the other, but some of the images are shared in both the dataset.\n",
        "\n",
        "It's crucial to ensure that the training set and the test set are well distinguished the one with the other and that they don't share images, otherwise the testing wouldn't be valid, as the model would be bias toward certain results.\n",
        "\n",
        "I want to use the same testset used to test the Machine Learning model, but this involves the elimination of these images from the dataset I've identified as trainset.\n",
        "\n",
        "Since the images in the train and test sets don't have the same name, although equal, I will compare their hash values.\n",
        "\n",
        "To achieve the latter I defined two functions:\n",
        "\n",
        "- `build_hash_dictionary`, that returns a dictionary of hashes and file paths of the images whose path is in the testset;\n",
        "- `remove_testing_instances_from_trainset`, that given the testset and the path of the directory containing the images used for the trainset, removes the images whose hash value is in the dictionary"
      ]
    },
    {
      "cell_type": "code",
      "execution_count": null,
      "metadata": {
        "id": "aLnR13Uuf1L2"
      },
      "outputs": [],
      "source": [
        "def build_hash_dictionary(dataset):\n",
        "    hash_dict = {}\n",
        "\n",
        "    for file_path in dataset:\n",
        "        # Generates the hash of the image\n",
        "        with Image.open(file_path) as img:\n",
        "            img_hash = str(imagehash.phash(img))\n",
        "\n",
        "        # Adds the hash to the dictionary\n",
        "        hash_dict.setdefault(img_hash, []).append(file_path)\n",
        "\n",
        "    return hash_dict\n"
      ]
    },
    {
      "cell_type": "code",
      "execution_count": null,
      "metadata": {
        "id": "W6VSvknzrJt_"
      },
      "outputs": [],
      "source": [
        "def remove_testing_instances_from_trainset(testset, training_dir):\n",
        "    # Generates an hash dictionary of the images in the testset\n",
        "    source_hash_dict = build_hash_dictionary(testset)\n",
        "\n",
        "    drop_count = 0\n",
        "    for classname in os.listdir(training_dir):\n",
        "        for filename in os.listdir(os.path.join(training_dir, classname)):\n",
        "            file_path = os.path.join(training_dir, classname, filename)\n",
        "\n",
        "            # Generates the hash of the image\n",
        "            with Image.open(file_path) as img:\n",
        "                img_hash = str(imagehash.phash(img))\n",
        "\n",
        "            # Checks if the hash is in the dictionary. If yes, it removes the image from the trainset\n",
        "            if img_hash in source_hash_dict:\n",
        "                os.remove(file_path)\n",
        "                drop_count += 1\n",
        "\n",
        "    print(\"Dropped {} test images from the trainset\".format(drop_count))"
      ]
    },
    {
      "cell_type": "code",
      "execution_count": null,
      "metadata": {
        "colab": {
          "base_uri": "https://localhost:8080/"
        },
        "id": "SKNDNHb6sFEq",
        "outputId": "ada33fb8-c61d-4fe7-f248-83e24f7d3736"
      },
      "outputs": [
        {
          "output_type": "stream",
          "name": "stdout",
          "text": [
            "Dropped 710 test images from the trainset\n"
          ]
        }
      ],
      "source": [
        "training_directory = \"/content/Garbage_classification_DL\"\n",
        "remove_testing_instances_from_trainset(testset, training_directory)"
      ]
    },
    {
      "cell_type": "markdown",
      "metadata": {
        "id": "Vi5Q-5gEfy9B"
      },
      "source": [
        "### Training set"
      ]
    },
    {
      "cell_type": "code",
      "execution_count": null,
      "metadata": {
        "colab": {
          "base_uri": "https://localhost:8080/"
        },
        "id": "2nMska_0uEpX",
        "outputId": "4dbf58e3-67e6-4843-9d75-d725f32a8853"
      },
      "outputs": [
        {
          "output_type": "stream",
          "name": "stdout",
          "text": [
            "Found 4876 files belonging to 5 classes.\n",
            "Using 3901 files for training.\n"
          ]
        }
      ],
      "source": [
        "train_ds = tf.keras.preprocessing.image_dataset_from_directory(\n",
        "    directory='Garbage_classification_DL',\n",
        "    labels='inferred',\n",
        "    label_mode='categorical',\n",
        "    class_names=[\"glass\", \"paper\", \"cardboard\", \"plastic\", \"metal\"],\n",
        "    color_mode='rgb',\n",
        "    batch_size=32,\n",
        "    image_size=(224,224),\n",
        "    shuffle=True,\n",
        "    seed=1821,\n",
        "    validation_split=0.2,\n",
        "    subset='training',\n",
        "    interpolation='bilinear',\n",
        "    follow_links=False,\n",
        "    crop_to_aspect_ratio=False,\n",
        ")"
      ]
    },
    {
      "cell_type": "markdown",
      "metadata": {
        "id": "CNuiqC9-pcL7"
      },
      "source": [
        "### Validation set"
      ]
    },
    {
      "cell_type": "code",
      "execution_count": null,
      "metadata": {
        "colab": {
          "base_uri": "https://localhost:8080/"
        },
        "id": "tVIH7NUspbhG",
        "outputId": "07a7a0bf-6fa0-4378-b1a2-633cf677525b"
      },
      "outputs": [
        {
          "name": "stdout",
          "output_type": "stream",
          "text": [
            "Found 4876 files belonging to 5 classes.\n",
            "Using 975 files for validation.\n"
          ]
        }
      ],
      "source": [
        "val_ds = tf.keras.preprocessing.image_dataset_from_directory(\n",
        "    directory='Garbage_classification_DL',\n",
        "    labels='inferred',\n",
        "    label_mode='categorical',\n",
        "    class_names=[\"glass\", \"paper\", \"cardboard\", \"plastic\", \"metal\"],\n",
        "    color_mode='rgb',\n",
        "    batch_size=32,\n",
        "    image_size=(224,224),\n",
        "    shuffle=True,\n",
        "    seed=1821,\n",
        "    validation_split=0.2,\n",
        "    subset='validation',\n",
        "    interpolation='bilinear',\n",
        "    follow_links=False,\n",
        "    crop_to_aspect_ratio=False,\n",
        ")"
      ]
    },
    {
      "cell_type": "markdown",
      "metadata": {
        "id": "VN7pSZZzpeGA"
      },
      "source": [
        "### Test set\n",
        "\n",
        "To elaborate the test set using Keras I've decided to create a test dataset as a copy of the images that hae the path in the test set\n",
        "\n",
        "The function `generate_test_folder` takes in input the testset and generate a folder with the test images."
      ]
    },
    {
      "cell_type": "code",
      "execution_count": null,
      "metadata": {
        "id": "YGS_gn4KpfJS"
      },
      "outputs": [],
      "source": [
        "def generate_test_folder(testset):\n",
        "    # Create the test folder\n",
        "    os.makedirs(\"/content/Garbage_classification_DL_test\", exist_ok=True)\n",
        "\n",
        "    copy_count = 0\n",
        "    # Iterate through the list of image paths in the testset\n",
        "    for image_path in testset:\n",
        "        _, _, _, class_folder, file_name = image_path.split(os.sep)\n",
        "\n",
        "        # Create the destination subfolder for the images\n",
        "        destination_subfolder = os.path.join(\"/content/Garbage_classification_DL_test\", class_folder)\n",
        "        os.makedirs(destination_subfolder, exist_ok=True)\n",
        "        destination_path = os.path.join(destination_subfolder, file_name)\n",
        "\n",
        "        # Copy the image to the destination path\n",
        "        shutil.copy(image_path, destination_path)\n",
        "        copy_count += 1\n",
        "\n",
        "    print(\"Copied {} test images to /content/Garbage_classification_DL_test\".format(copy_count))"
      ]
    },
    {
      "cell_type": "code",
      "execution_count": null,
      "metadata": {
        "colab": {
          "base_uri": "https://localhost:8080/"
        },
        "id": "5RPS1nxpruSY",
        "outputId": "7f0dac6d-e414-4d43-bcca-ffe0aeea6f07"
      },
      "outputs": [
        {
          "output_type": "stream",
          "name": "stdout",
          "text": [
            "Copied 717 test images to /content/Garbage_classification_DL_test\n"
          ]
        }
      ],
      "source": [
        "generate_test_folder(testset)"
      ]
    },
    {
      "cell_type": "code",
      "execution_count": null,
      "metadata": {
        "colab": {
          "base_uri": "https://localhost:8080/"
        },
        "id": "EEVM7kGcp3XW",
        "outputId": "85f82bdb-e9d6-474a-a622-1c3a1ccb8977"
      },
      "outputs": [
        {
          "output_type": "stream",
          "name": "stdout",
          "text": [
            "Found 717 files belonging to 5 classes.\n"
          ]
        }
      ],
      "source": [
        "test_ds = tf.keras.preprocessing.image_dataset_from_directory(\n",
        "    directory='Garbage_classification_DL_test',\n",
        "    labels='inferred',\n",
        "    label_mode='categorical',\n",
        "    class_names=[\"glass\", \"paper\", \"cardboard\", \"plastic\", \"metal\"],\n",
        "    color_mode='rgb',\n",
        "    batch_size=32,\n",
        "    image_size=(224,224),\n",
        "    shuffle=True,\n",
        "    seed=1821,\n",
        "    validation_split=0,\n",
        "    interpolation='bilinear',\n",
        "    follow_links=False,\n",
        "    crop_to_aspect_ratio=False,\n",
        ")"
      ]
    },
    {
      "cell_type": "markdown",
      "metadata": {
        "id": "cQ6YpXM8p72l"
      },
      "source": [
        "## 2. Model architecture\n",
        "\n",
        "Both the model architecture we're going to analyze are achitectures pre-trained on ImageNet\n",
        "\n",
        "\n"
      ]
    },
    {
      "cell_type": "markdown",
      "source": [
        "### 2.1 - MobileNet"
      ],
      "metadata": {
        "id": "aM8JftApg4H9"
      }
    },
    {
      "cell_type": "code",
      "execution_count": null,
      "metadata": {
        "id": "h4NhgpSttq6X"
      },
      "outputs": [],
      "source": [
        "model = tf.keras.applications.MobileNet(\n",
        "    input_shape=None,\n",
        "    alpha=1.0,\n",
        "    depth_multiplier=1,\n",
        "    dropout=0.001,\n",
        "    include_top=True,\n",
        "    weights=\"imagenet\",\n",
        "    input_tensor=None,\n",
        "    pooling=None,\n",
        "    classes=1000,\n",
        "    classifier_activation=\"softmax\"\n",
        ")\n",
        "\n",
        "output = Dense(5, activation='softmax', name='predictions')(model.layers[-2].output)\n",
        "model = Model(model.input, output)\n",
        "\n",
        "model.compile(\n",
        "    optimizer=keras.optimizers.SGD(1e-3),\n",
        "    loss=\"categorical_crossentropy\",\n",
        "    metrics=[\"accuracy\"],\n",
        ")"
      ]
    },
    {
      "cell_type": "markdown",
      "metadata": {
        "id": "pIoGIaMZuy0J"
      },
      "source": [
        "**TRAINING**\n",
        "\n",
        "\n"
      ]
    },
    {
      "cell_type": "code",
      "execution_count": null,
      "metadata": {
        "colab": {
          "base_uri": "https://localhost:8080/"
        },
        "id": "n6790CWNurcL",
        "outputId": "2acc5b68-3aad-4f68-aab9-462a0289cec0"
      },
      "outputs": [
        {
          "name": "stdout",
          "output_type": "stream",
          "text": [
            "Epoch 1/10\n",
            "122/122 [==============================] - 26s 167ms/step - loss: 1.1851 - accuracy: 0.6793 - val_loss: 0.7662 - val_accuracy: 0.7836\n",
            "Epoch 2/10\n",
            "122/122 [==============================] - 20s 164ms/step - loss: 0.3919 - accuracy: 0.8662 - val_loss: 0.4927 - val_accuracy: 0.8410\n",
            "Epoch 3/10\n",
            "122/122 [==============================] - 20s 163ms/step - loss: 0.2571 - accuracy: 0.9116 - val_loss: 0.4264 - val_accuracy: 0.8523\n",
            "Epoch 4/10\n",
            "122/122 [==============================] - 20s 163ms/step - loss: 0.1675 - accuracy: 0.9444 - val_loss: 0.3844 - val_accuracy: 0.8728\n",
            "Epoch 5/10\n",
            "122/122 [==============================] - 20s 163ms/step - loss: 0.1396 - accuracy: 0.9474 - val_loss: 0.3580 - val_accuracy: 0.8728\n",
            "Epoch 6/10\n",
            "122/122 [==============================] - 21s 167ms/step - loss: 0.1050 - accuracy: 0.9656 - val_loss: 0.3530 - val_accuracy: 0.8851\n",
            "Epoch 7/10\n",
            "122/122 [==============================] - 20s 162ms/step - loss: 0.0905 - accuracy: 0.9718 - val_loss: 0.3316 - val_accuracy: 0.8892\n",
            "Epoch 8/10\n",
            "122/122 [==============================] - 20s 164ms/step - loss: 0.0763 - accuracy: 0.9741 - val_loss: 0.3227 - val_accuracy: 0.8841\n",
            "Epoch 9/10\n",
            "122/122 [==============================] - 20s 162ms/step - loss: 0.0600 - accuracy: 0.9808 - val_loss: 0.3154 - val_accuracy: 0.8882\n",
            "Epoch 10/10\n",
            "122/122 [==============================] - 20s 161ms/step - loss: 0.0455 - accuracy: 0.9885 - val_loss: 0.3080 - val_accuracy: 0.8954\n"
          ]
        },
        {
          "data": {
            "text/plain": [
              "<keras.src.callbacks.History at 0x7ad1577c27a0>"
            ]
          },
          "execution_count": 31,
          "metadata": {},
          "output_type": "execute_result"
        }
      ],
      "source": [
        "epochs = 10\n",
        "\n",
        "callbacks = [\n",
        "    keras.callbacks.ModelCheckpoint(\"MobileNet-save_at_{epoch}.h5\"),\n",
        "    tf.keras.callbacks.TensorBoard(log_dir=\"logs\", write_graph=True, write_images=False, update_freq=\"epoch\",)\n",
        "]\n",
        "\n",
        "model.fit(\n",
        "    train_ds, epochs=epochs, callbacks=callbacks, validation_data=val_ds,\n",
        ")"
      ]
    },
    {
      "cell_type": "markdown",
      "metadata": {
        "id": "1lDWghbBu6yn"
      },
      "source": [
        "**MODEL EVALUATION**\n",
        "\n",
        "The `evaluate` function of a TensorFlow Keras model evaluates loss and accuracy of the trained model against a test set."
      ]
    },
    {
      "cell_type": "code",
      "execution_count": null,
      "metadata": {
        "colab": {
          "base_uri": "https://localhost:8080/"
        },
        "id": "54NKKs3bu5m-",
        "outputId": "a23f890a-af5e-4ebd-c7e3-655984fa2a3a"
      },
      "outputs": [
        {
          "output_type": "stream",
          "name": "stdout",
          "text": [
            "23/23 [==============================] - 2s 42ms/step - loss: 0.5502 - accuracy: 0.8285\n"
          ]
        },
        {
          "output_type": "execute_result",
          "data": {
            "text/plain": [
              "[0.550165057182312, 0.8284518718719482]"
            ]
          },
          "metadata": {},
          "execution_count": 109
        }
      ],
      "source": [
        "model_trained = keras.models.load_model('/content/MobileNet-save_at_10.h5')\n",
        "\n",
        "model_trained.evaluate(\n",
        "    x=test_ds,\n",
        "    y=None,\n",
        "    batch_size=128,\n",
        "    verbose=True,\n",
        "    sample_weight=None,\n",
        "    steps=None,\n",
        "    callbacks=None,\n",
        "    max_queue_size=10,\n",
        "    workers=1,\n",
        "    use_multiprocessing=False,\n",
        "    return_dict=False,\n",
        ")"
      ]
    },
    {
      "cell_type": "markdown",
      "source": [
        "Besides the evaluation made with the build-in `evaluate` method of TensorFlow, I've obtained the prediction results, in order to compute the classification report and the confusion matrix.\n",
        "\n",
        "The method `predict` returns the set of probabilities for the classes involved in the classification. This is the output of the last (Dense) layer"
      ],
      "metadata": {
        "id": "h3O-rIj1iesP"
      }
    },
    {
      "cell_type": "code",
      "execution_count": null,
      "metadata": {
        "colab": {
          "base_uri": "https://localhost:8080/",
          "height": 680
        },
        "outputId": "974d3304-b416-4b36-fb47-e6740504f474",
        "id": "gIjgX8V1iZRU"
      },
      "outputs": [
        {
          "output_type": "stream",
          "name": "stdout",
          "text": [
            "              precision    recall  f1-score   support\n",
            "\n",
            "       glass       0.75      0.84      0.79       126\n",
            "       paper       0.87      0.84      0.86       187\n",
            "   cardboard       0.85      0.92      0.88       130\n",
            "     plastic       0.84      0.77      0.80       149\n",
            "       metal       0.83      0.76      0.79       125\n",
            "\n",
            "    accuracy                           0.83       717\n",
            "   macro avg       0.83      0.83      0.83       717\n",
            "weighted avg       0.83      0.83      0.83       717\n",
            "\n"
          ]
        },
        {
          "output_type": "display_data",
          "data": {
            "text/plain": [
              "<Figure size 640x480 with 2 Axes>"
            ],
            "image/png": "[encoded data removed]"
          },
          "metadata": {}
        }
      ],
      "source": [
        "y_predicted = np.array([])\n",
        "y_actual =  np.array([])\n",
        "for x, y in test_ds:\n",
        "    y_predicted = np.concatenate([y_predicted, np.argmax(model_trained.predict(x, verbose=0), axis = -1)])\n",
        "    y_actual = np.concatenate([y_actual, np.argmax(y.numpy(), axis=-1)])\n",
        "\n",
        "# print the classification report\n",
        "print(classification_report(y_actual, y_predicted, target_names=[\"glass\", \"paper\", \"cardboard\", \"plastic\", \"metal\"]))\n",
        "\n",
        "# Display the confusion matrix\n",
        "ConfusionMatrixDisplay.from_predictions(y_actual, y_predicted, normalize=\"true\", display_labels=[\"glass\", \"paper\", \"cardboard\", \"plastic\", \"metal\"])\n",
        "plt.title(\"MobileNet\")\n",
        "plt.show()"
      ]
    },
    {
      "cell_type": "markdown",
      "metadata": {
        "id": "0z_5PwI5xUac"
      },
      "source": [
        "### 2.2 - **VGG19**\n",
        "\n",
        "\n"
      ]
    },
    {
      "cell_type": "code",
      "execution_count": null,
      "metadata": {
        "colab": {
          "base_uri": "https://localhost:8080/"
        },
        "id": "71HgwdGexxF9",
        "outputId": "eca84a8a-d6ca-41f7-882d-400bee42ebea"
      },
      "outputs": [
        {
          "name": "stdout",
          "output_type": "stream",
          "text": [
            "Downloading data from https://storage.googleapis.com/tensorflow/keras-applications/vgg19/vgg19_weights_tf_dim_ordering_tf_kernels.h5\n",
            "574710816/574710816 [==============================] - 11s 0us/step\n"
          ]
        }
      ],
      "source": [
        "model = tf.keras.applications.VGG19(\n",
        "    include_top=True,\n",
        "    weights=\"imagenet\",\n",
        "    input_tensor=None,\n",
        "    input_shape=None,\n",
        "    pooling=None,\n",
        "    classes=1000,\n",
        "    classifier_activation=\"softmax\",\n",
        ")\n",
        "\n",
        "output = Dense(5, activation='softmax', name='predictions')(model.layers[-2].output)\n",
        "model = Model(model.input, output)\n",
        "\n",
        "model.compile(\n",
        "    optimizer=keras.optimizers.SGD(1e-3),\n",
        "    loss=\"categorical_crossentropy\",\n",
        "    metrics=[\"accuracy\"],\n",
        ")"
      ]
    },
    {
      "cell_type": "markdown",
      "metadata": {
        "id": "f28g69K4yr80"
      },
      "source": [
        "**TRAINING**"
      ]
    },
    {
      "cell_type": "code",
      "execution_count": null,
      "metadata": {
        "colab": {
          "background_save": true,
          "base_uri": "https://localhost:8080/"
        },
        "id": "32H4-7zayw1d",
        "outputId": "bbb516b7-ab90-4da3-dc20-a3e3db835ecc"
      },
      "outputs": [
        {
          "name": "stdout",
          "output_type": "stream",
          "text": [
            "Epoch 1/5\n",
            "122/122 [==============================] - ETA: 0s - loss: 0.5390 - accuracy: 0.8006"
          ]
        },
        {
          "name": "stderr",
          "output_type": "stream",
          "text": [
            "/usr/local/lib/python3.10/dist-packages/keras/src/engine/training.py:3103: UserWarning: You are saving your model as an HDF5 file via `model.save()`. This file format is considered legacy. We recommend using instead the native Keras format, e.g. `model.save('my_model.keras')`.\n",
            "  saving_api.save_model(\n"
          ]
        },
        {
          "name": "stdout",
          "output_type": "stream",
          "text": [
            "122/122 [==============================] - 117s 777ms/step - loss: 0.5390 - accuracy: 0.8006 - val_loss: 0.4221 - val_accuracy: 0.8379\n",
            "Epoch 2/5\n",
            "122/122 [==============================] - 87s 709ms/step - loss: 0.1528 - accuracy: 0.9472 - val_loss: 0.3256 - val_accuracy: 0.8862\n",
            "Epoch 3/5\n",
            "122/122 [==============================] - 87s 709ms/step - loss: 0.0485 - accuracy: 0.9874 - val_loss: 0.2993 - val_accuracy: 0.8985\n",
            "Epoch 4/5\n",
            "122/122 [==============================] - 73s 599ms/step - loss: 0.0116 - accuracy: 0.9987 - val_loss: 0.3281 - val_accuracy: 0.8995\n",
            "Epoch 5/5\n",
            "122/122 [==============================] - 79s 644ms/step - loss: 0.0067 - accuracy: 0.9992 - val_loss: 0.3350 - val_accuracy: 0.9036\n"
          ]
        },
        {
          "data": {
            "text/plain": [
              "<keras.src.callbacks.History at 0x7ad15f7972e0>"
            ]
          },
          "execution_count": 65,
          "metadata": {},
          "output_type": "execute_result"
        }
      ],
      "source": [
        "epochs = 5\n",
        "\n",
        "callbacks = [\n",
        "    keras.callbacks.ModelCheckpoint(\"VGG19-save_at_{epoch}.h5\"),\n",
        "    tf.keras.callbacks.TensorBoard(log_dir=\"logs\", write_graph=True, write_images=False, update_freq=\"epoch\",)\n",
        "]\n",
        "\n",
        "model.fit(\n",
        "    train_ds, epochs=epochs, callbacks=callbacks, validation_data=val_ds,\n",
        ")"
      ]
    },
    {
      "cell_type": "markdown",
      "metadata": {
        "id": "wMasPCRLyzCL"
      },
      "source": [
        "**MODEL EVALUATION**"
      ]
    },
    {
      "cell_type": "code",
      "execution_count": null,
      "metadata": {
        "colab": {
          "base_uri": "https://localhost:8080/"
        },
        "id": "nNFju7eDy6Ln",
        "outputId": "dc46fc22-a38a-440e-c980-e62326c3b344"
      },
      "outputs": [
        {
          "output_type": "stream",
          "name": "stdout",
          "text": [
            "23/23 [==============================] - 4s 140ms/step - loss: 0.4621 - accuracy: 0.8605\n"
          ]
        },
        {
          "output_type": "execute_result",
          "data": {
            "text/plain": [
              "[0.46207955479621887, 0.8605299592018127]"
            ]
          },
          "metadata": {},
          "execution_count": 114
        }
      ],
      "source": [
        "model_trained = keras.models.load_model('/content/VGG19-save_at_5.h5')\n",
        "\n",
        "model_trained.evaluate(\n",
        "    x=test_ds,\n",
        "    y=None,\n",
        "    batch_size=32,\n",
        "    verbose=True,\n",
        "    sample_weight=None,\n",
        "    steps=None,\n",
        "    callbacks=None,\n",
        "    max_queue_size=10,\n",
        "    workers=1,\n",
        "    use_multiprocessing=False,\n",
        "    return_dict=False,\n",
        ")"
      ]
    },
    {
      "cell_type": "code",
      "execution_count": null,
      "metadata": {
        "colab": {
          "base_uri": "https://localhost:8080/",
          "height": 680
        },
        "id": "o2b2O4f5shvs",
        "outputId": "0f480b8d-979c-433d-ad40-b1050290e9a8"
      },
      "outputs": [
        {
          "output_type": "stream",
          "name": "stdout",
          "text": [
            "              precision    recall  f1-score   support\n",
            "\n",
            "       glass       0.77      0.86      0.81       126\n",
            "       paper       0.90      0.88      0.89       187\n",
            "   cardboard       0.88      0.91      0.89       130\n",
            "     plastic       0.88      0.79      0.83       149\n",
            "       metal       0.87      0.87      0.87       125\n",
            "\n",
            "    accuracy                           0.86       717\n",
            "   macro avg       0.86      0.86      0.86       717\n",
            "weighted avg       0.86      0.86      0.86       717\n",
            "\n"
          ]
        },
        {
          "output_type": "display_data",
          "data": {
            "text/plain": [
              "<Figure size 640x480 with 2 Axes>"
            ],
            "image/png": "[encoded data removed]"
          },
          "metadata": {}
        }
      ],
      "source": [
        "y_predicted = np.array([])\n",
        "y_actual =  np.array([])\n",
        "for x, y in test_ds:\n",
        "    y_predicted = np.concatenate([y_predicted, np.argmax(model_trained.predict(x, verbose=0), axis = -1)])\n",
        "    y_actual = np.concatenate([y_actual, np.argmax(y.numpy(), axis=-1)])\n",
        "\n",
        "# print the classification report\n",
        "print(classification_report(y_actual, y_predicted, target_names=[\"glass\", \"paper\", \"cardboard\", \"plastic\", \"metal\"]))\n",
        "\n",
        "# Display the confusion matrix\n",
        "ConfusionMatrixDisplay.from_predictions(y_actual, y_predicted, normalize=\"true\", display_labels=[\"glass\", \"paper\", \"cardboard\", \"plastic\", \"metal\"])\n",
        "plt.title(\"VGG19\")\n",
        "plt.show()"
      ]
    }
  ],
  "metadata": {
    "accelerator": "GPU",
    "colab": {
      "provenance": []
    },
    "kernelspec": {
      "display_name": "Python 3",
      "name": "python3"
    },
    "language_info": {
      "name": "python"
    }
  },
  "nbformat": 4,
  "nbformat_minor": 0
}